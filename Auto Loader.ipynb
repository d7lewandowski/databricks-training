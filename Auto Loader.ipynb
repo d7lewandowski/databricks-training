{
 "cells": [
  {
   "cell_type": "markdown",
   "metadata": {
    "application/vnd.databricks.v1+cell": {
     "cellMetadata": {},
     "inputWidgets": {},
     "nuid": "db127f33-4b77-449f-a27a-c1fa2b97e97d",
     "showTitle": false,
     "title": ""
    }
   },
   "source": [
    "# Auto Loader "
   ]
  },
  {
   "cell_type": "markdown",
   "metadata": {
    "application/vnd.databricks.v1+cell": {
     "cellMetadata": {},
     "inputWidgets": {},
     "nuid": "7e3a43a2-d5ef-489d-895a-5a6d09bdc420",
     "showTitle": false,
     "title": ""
    }
   },
   "source": [
    "# Source directory\n",
    "Sample dataset\n",
    "\n",
    "Source: https://docs.databricks.com/en/query/formats/parquet.html"
   ]
  },
  {
   "cell_type": "code",
   "execution_count": 0,
   "metadata": {
    "application/vnd.databricks.v1+cell": {
     "cellMetadata": {
      "byteLimit": 2048000,
      "rowLimit": 10000
     },
     "inputWidgets": {},
     "nuid": "b01089e2-a780-4a4c-b1ff-e401c370ae03",
     "showTitle": false,
     "title": ""
    }
   },
   "outputs": [
    {
     "output_type": "display_data",
     "data": {
      "text/html": [
       "<style scoped>\n",
       "  .ansiout {\n",
       "    display: block;\n",
       "    unicode-bidi: embed;\n",
       "    white-space: pre-wrap;\n",
       "    word-wrap: break-word;\n",
       "    word-break: break-all;\n",
       "    font-family: \"Menlo\", \"Monaco\", \"Consolas\", \"Ubuntu Mono\", \"Source Code Pro\", monospace;\n",
       "    font-size: 13px;\n",
       "    color: #555;\n",
       "    margin-left: 4px;\n",
       "    line-height: 19px;\n",
       "  }\n",
       "</style>\n",
       "<div class=\"ansiout\">defined class MyCaseClass\n",
       "dataframe: org.apache.spark.sql.DataFrame = [key: string, group: string ... 3 more fields]\n",
       "</div>"
      ]
     },
     "metadata": {
      "application/vnd.databricks.v1+output": {
       "addedWidgets": {},
       "arguments": {},
       "data": "<div class=\"ansiout\">defined class MyCaseClass\ndataframe: org.apache.spark.sql.DataFrame = [key: string, group: string ... 3 more fields]\n</div>",
       "datasetInfos": [
        {
         "name": "dataframe",
         "schema": {
          "fields": [
           {
            "metadata": {},
            "name": "key",
            "nullable": true,
            "type": "string"
           },
           {
            "metadata": {},
            "name": "group",
            "nullable": true,
            "type": "string"
           },
           {
            "metadata": {},
            "name": "value",
            "nullable": false,
            "type": "integer"
           },
           {
            "metadata": {},
            "name": "someints",
            "nullable": true,
            "type": {
             "containsNull": false,
             "elementType": "integer",
             "type": "array"
            }
           },
           {
            "metadata": {},
            "name": "somemap",
            "nullable": true,
            "type": {
             "keyType": "string",
             "type": "map",
             "valueContainsNull": false,
             "valueType": "integer"
            }
           }
          ],
          "type": "struct"
         },
         "tableIdentifier": null,
         "typeStr": "org.apache.spark.sql.DataFrame"
        }
       ],
       "metadata": {
        "isDbfsCommandResult": false
       },
       "removedWidgets": [],
       "type": "html"
      }
     },
     "output_type": "display_data"
    }
   ],
   "source": [
    "%scala \n",
    " \n",
    "case class MyCaseClass(key: String, group: String, value: Int, someints: Seq[Int], somemap: Map[String, Int])\n",
    "val dataframe = sc.parallelize(Array(MyCaseClass(\"a\", \"vowels\", 1, Array(1), Map(\"a\" -> 1)),\n",
    "  MyCaseClass(\"b\", \"consonants\", 2, Array(2, 2), Map(\"b\" -> 2)),\n",
    "  MyCaseClass(\"c\", \"consonants\", 3, Array(3, 3, 3), Map(\"c\" -> 3)),\n",
    "  MyCaseClass(\"d\", \"consonants\", 4, Array(4, 4, 4, 4), Map(\"d\" -> 4)),\n",
    "  MyCaseClass(\"e\", \"vowels\", 5, Array(5, 5, 5, 5, 5), Map(\"e\" -> 5)))\n",
    ").toDF()\n",
    "// now write it to disk\n",
    "dataframe.write.mode(\"overwrite\").parquet(\"dbfs:/mnt/demo_parquet/testParquet\")"
   ]
  },
  {
   "cell_type": "markdown",
   "metadata": {
    "application/vnd.databricks.v1+cell": {
     "cellMetadata": {},
     "inputWidgets": {},
     "nuid": "27a9ef9f-2e95-4ea0-b144-6e195ca6aa1a",
     "showTitle": false,
     "title": ""
    }
   },
   "source": [
    "Check files in new folder "
   ]
  },
  {
   "cell_type": "code",
   "execution_count": 0,
   "metadata": {
    "application/vnd.databricks.v1+cell": {
     "cellMetadata": {
      "byteLimit": 2048000,
      "rowLimit": 10000
     },
     "inputWidgets": {},
     "nuid": "cc374a76-5a88-4685-95e5-040402615486",
     "showTitle": false,
     "title": ""
    }
   },
   "outputs": [
    {
     "output_type": "display_data",
     "data": {
      "text/html": [
       "<style scoped>\n",
       "  .table-result-container {\n",
       "    max-height: 300px;\n",
       "    overflow: auto;\n",
       "  }\n",
       "  table, th, td {\n",
       "    border: 1px solid black;\n",
       "    border-collapse: collapse;\n",
       "  }\n",
       "  th, td {\n",
       "    padding: 5px;\n",
       "  }\n",
       "  th {\n",
       "    text-align: left;\n",
       "  }\n",
       "</style><div class='table-result-container'><table class='table-result'><thead style='background-color: white'><tr><th>key</th><th>group</th><th>value</th><th>someints</th><th>somemap</th></tr></thead><tbody><tr><td>b</td><td>consonants</td><td>2</td><td>List(2, 2)</td><td>Map(b -> 2)</td></tr><tr><td>d</td><td>consonants</td><td>4</td><td>List(4, 4, 4, 4)</td><td>Map(d -> 4)</td></tr><tr><td>c</td><td>consonants</td><td>3</td><td>List(3, 3, 3)</td><td>Map(c -> 3)</td></tr><tr><td>e</td><td>vowels</td><td>5</td><td>List(5, 5, 5, 5, 5)</td><td>Map(e -> 5)</td></tr><tr><td>a</td><td>vowels</td><td>1</td><td>List(1)</td><td>Map(a -> 1)</td></tr></tbody></table></div>"
      ]
     },
     "metadata": {
      "application/vnd.databricks.v1+output": {
       "addedWidgets": {},
       "aggData": [],
       "aggError": "",
       "aggOverflow": false,
       "aggSchema": [],
       "aggSeriesLimitReached": false,
       "aggType": "",
       "arguments": {},
       "columnCustomDisplayInfos": {},
       "data": [
        [
         "b",
         "consonants",
         2,
         [
          2,
          2
         ],
         {
          "b": 2
         }
        ],
        [
         "d",
         "consonants",
         4,
         [
          4,
          4,
          4,
          4
         ],
         {
          "d": 4
         }
        ],
        [
         "c",
         "consonants",
         3,
         [
          3,
          3,
          3
         ],
         {
          "c": 3
         }
        ],
        [
         "e",
         "vowels",
         5,
         [
          5,
          5,
          5,
          5,
          5
         ],
         {
          "e": 5
         }
        ],
        [
         "a",
         "vowels",
         1,
         [
          1
         ],
         {
          "a": 1
         }
        ]
       ],
       "datasetInfos": [],
       "dbfsResultPath": null,
       "isJsonSchema": true,
       "metadata": {},
       "overflow": false,
       "plotOptions": {
        "customPlotOptions": {},
        "displayType": "table",
        "pivotAggregation": null,
        "pivotColumns": null,
        "xColumns": null,
        "yColumns": null
       },
       "removedWidgets": [],
       "schema": [
        {
         "metadata": "{}",
         "name": "key",
         "type": "\"string\""
        },
        {
         "metadata": "{}",
         "name": "group",
         "type": "\"string\""
        },
        {
         "metadata": "{}",
         "name": "value",
         "type": "\"integer\""
        },
        {
         "metadata": "{}",
         "name": "someints",
         "type": "{\"type\":\"array\",\"elementType\":\"integer\",\"containsNull\":true}"
        },
        {
         "metadata": "{}",
         "name": "somemap",
         "type": "{\"type\":\"map\",\"keyType\":\"string\",\"valueType\":\"integer\",\"valueContainsNull\":true}"
        }
       ],
       "type": "table"
      }
     },
     "output_type": "display_data"
    }
   ],
   "source": [
    "%python \n",
    "data = spark.read.parquet(\"dbfs:/mnt/demo_parquet/testParquet\")\n",
    " \n",
    "display(data)"
   ]
  },
  {
   "cell_type": "markdown",
   "metadata": {
    "application/vnd.databricks.v1+cell": {
     "cellMetadata": {},
     "inputWidgets": {},
     "nuid": "96e0f655-d147-4b52-a033-9825a0966c24",
     "showTitle": false,
     "title": ""
    }
   },
   "source": [
    "## Auto Loader code"
   ]
  },
  {
   "cell_type": "code",
   "execution_count": 0,
   "metadata": {
    "application/vnd.databricks.v1+cell": {
     "cellMetadata": {
      "byteLimit": 2048000,
      "rowLimit": 10000
     },
     "inputWidgets": {},
     "nuid": "4c196178-9324-42d8-93c7-5431f8fcd682",
     "showTitle": false,
     "title": ""
    }
   },
   "outputs": [
    {
     "output_type": "stream",
     "name": "stdout",
     "output_type": "stream",
     "text": [
      "Out[53]: <pyspark.sql.streaming.query.StreamingQuery at 0x7feeccfddf40>"
     ]
    }
   ],
   "source": [
    "path = 'dbfs:/mnt/demo_parquet/testParquet'\n",
    "\n",
    "(spark.readStream\n",
    "        .format('cloudFiles')\n",
    "        .option('cloudFiles.format', 'parquet')\n",
    "        .option('cloudFiles.schemaLocation', 'dbfs:/mnt/demo/parquet_checkpoint')\n",
    "        .load(path)\n",
    "       .writeStream\n",
    "        .option('checkpointLocation', 'dbfs:/mnt/demo/parquet_checkpoint')\n",
    "        .table('testParquetUpdate')\n",
    ")"
   ]
  },
  {
   "cell_type": "code",
   "execution_count": 0,
   "metadata": {
    "application/vnd.databricks.v1+cell": {
     "cellMetadata": {
      "byteLimit": 2048000,
      "implicitDf": true,
      "rowLimit": 10000
     },
     "inputWidgets": {},
     "nuid": "ff1bb832-e413-4fe1-a1bb-8c99ac802f4e",
     "showTitle": false,
     "title": ""
    }
   },
   "outputs": [
    {
     "output_type": "display_data",
     "data": {
      "text/html": [
       "<style scoped>\n",
       "  .table-result-container {\n",
       "    max-height: 300px;\n",
       "    overflow: auto;\n",
       "  }\n",
       "  table, th, td {\n",
       "    border: 1px solid black;\n",
       "    border-collapse: collapse;\n",
       "  }\n",
       "  th, td {\n",
       "    padding: 5px;\n",
       "  }\n",
       "  th {\n",
       "    text-align: left;\n",
       "  }\n",
       "</style><div class='table-result-container'><table class='table-result'><thead style='background-color: white'><tr><th>key</th><th>group</th><th>value</th><th>someints</th><th>somemap</th><th>_rescued_data</th></tr></thead><tbody><tr><td>d</td><td>consonants</td><td>4</td><td>List(4, 4, 4, 4)</td><td>Map(d -> 4)</td><td>null</td></tr><tr><td>b</td><td>consonants</td><td>2</td><td>List(2, 2)</td><td>Map(b -> 2)</td><td>null</td></tr><tr><td>c</td><td>consonants</td><td>3</td><td>List(3, 3, 3)</td><td>Map(c -> 3)</td><td>null</td></tr><tr><td>e</td><td>vowels</td><td>5</td><td>List(5, 5, 5, 5, 5)</td><td>Map(e -> 5)</td><td>null</td></tr><tr><td>a</td><td>vowels</td><td>1</td><td>List(1)</td><td>Map(a -> 1)</td><td>null</td></tr></tbody></table></div>"
      ]
     },
     "metadata": {
      "application/vnd.databricks.v1+output": {
       "addedWidgets": {},
       "aggData": [],
       "aggError": "",
       "aggOverflow": false,
       "aggSchema": [],
       "aggSeriesLimitReached": false,
       "aggType": "",
       "arguments": {},
       "columnCustomDisplayInfos": {},
       "data": [
        [
         "d",
         "consonants",
         4,
         [
          4,
          4,
          4,
          4
         ],
         {
          "d": 4
         },
         null
        ],
        [
         "b",
         "consonants",
         2,
         [
          2,
          2
         ],
         {
          "b": 2
         },
         null
        ],
        [
         "c",
         "consonants",
         3,
         [
          3,
          3,
          3
         ],
         {
          "c": 3
         },
         null
        ],
        [
         "e",
         "vowels",
         5,
         [
          5,
          5,
          5,
          5,
          5
         ],
         {
          "e": 5
         },
         null
        ],
        [
         "a",
         "vowels",
         1,
         [
          1
         ],
         {
          "a": 1
         },
         null
        ]
       ],
       "datasetInfos": [],
       "dbfsResultPath": null,
       "isJsonSchema": true,
       "metadata": {},
       "overflow": false,
       "plotOptions": {
        "customPlotOptions": {},
        "displayType": "table",
        "pivotAggregation": null,
        "pivotColumns": null,
        "xColumns": null,
        "yColumns": null
       },
       "removedWidgets": [],
       "schema": [
        {
         "metadata": "{}",
         "name": "key",
         "type": "\"string\""
        },
        {
         "metadata": "{}",
         "name": "group",
         "type": "\"string\""
        },
        {
         "metadata": "{}",
         "name": "value",
         "type": "\"integer\""
        },
        {
         "metadata": "{}",
         "name": "someints",
         "type": "{\"type\":\"array\",\"elementType\":\"integer\",\"containsNull\":true}"
        },
        {
         "metadata": "{}",
         "name": "somemap",
         "type": "{\"type\":\"map\",\"keyType\":\"string\",\"valueType\":\"integer\",\"valueContainsNull\":true}"
        },
        {
         "metadata": "{}",
         "name": "_rescued_data",
         "type": "\"string\""
        }
       ],
       "type": "table"
      }
     },
     "output_type": "display_data"
    }
   ],
   "source": [
    "%sql\n",
    "SELECT * FROM testParquetUpdate;"
   ]
  },
  {
   "cell_type": "markdown",
   "metadata": {
    "application/vnd.databricks.v1+cell": {
     "cellMetadata": {},
     "inputWidgets": {},
     "nuid": "b4d5e958-a302-4205-b1e1-75ddbf2646f2",
     "showTitle": false,
     "title": ""
    }
   },
   "source": [
    "Auto loader "
   ]
  },
  {
   "cell_type": "code",
   "execution_count": 0,
   "metadata": {
    "application/vnd.databricks.v1+cell": {
     "cellMetadata": {
      "byteLimit": 2048000,
      "implicitDf": true,
      "rowLimit": 10000
     },
     "inputWidgets": {},
     "nuid": "c456819e-8a0b-4eaa-9e83-d8d5d628b5ef",
     "showTitle": false,
     "title": ""
    }
   },
   "outputs": [
    {
     "output_type": "display_data",
     "data": {
      "text/html": [
       "<style scoped>\n",
       "  .table-result-container {\n",
       "    max-height: 300px;\n",
       "    overflow: auto;\n",
       "  }\n",
       "  table, th, td {\n",
       "    border: 1px solid black;\n",
       "    border-collapse: collapse;\n",
       "  }\n",
       "  th, td {\n",
       "    padding: 5px;\n",
       "  }\n",
       "  th {\n",
       "    text-align: left;\n",
       "  }\n",
       "</style><div class='table-result-container'><table class='table-result'><thead style='background-color: white'><tr><th>count(1)</th></tr></thead><tbody><tr><td>5</td></tr></tbody></table></div>"
      ]
     },
     "metadata": {
      "application/vnd.databricks.v1+output": {
       "addedWidgets": {},
       "aggData": [],
       "aggError": "",
       "aggOverflow": false,
       "aggSchema": [],
       "aggSeriesLimitReached": false,
       "aggType": "",
       "arguments": {},
       "columnCustomDisplayInfos": {},
       "data": [
        [
         5
        ]
       ],
       "datasetInfos": [],
       "dbfsResultPath": null,
       "isJsonSchema": true,
       "metadata": {},
       "overflow": false,
       "plotOptions": {
        "customPlotOptions": {},
        "displayType": "table",
        "pivotAggregation": null,
        "pivotColumns": null,
        "xColumns": null,
        "yColumns": null
       },
       "removedWidgets": [],
       "schema": [
        {
         "metadata": "{\"__autoGeneratedAlias\":\"true\"}",
         "name": "count(1)",
         "type": "\"long\""
        }
       ],
       "type": "table"
      }
     },
     "output_type": "display_data"
    }
   ],
   "source": [
    "%sql\n",
    "SELECT count(*) FROM testParquetUpdate"
   ]
  },
  {
   "cell_type": "markdown",
   "metadata": {
    "application/vnd.databricks.v1+cell": {
     "cellMetadata": {},
     "inputWidgets": {},
     "nuid": "8d9859bc-6631-4351-8409-ac26b7098f71",
     "showTitle": false,
     "title": ""
    }
   },
   "source": [
    "Loading new parquet files\\\n",
    "1 records will be added"
   ]
  },
  {
   "cell_type": "code",
   "execution_count": 0,
   "metadata": {
    "application/vnd.databricks.v1+cell": {
     "cellMetadata": {
      "byteLimit": 2048000,
      "rowLimit": 10000
     },
     "inputWidgets": {},
     "nuid": "978f2023-3afa-4c25-9179-7e4f77ee7fee",
     "showTitle": false,
     "title": ""
    }
   },
   "outputs": [
    {
     "output_type": "display_data",
     "data": {
      "text/html": [
       "<style scoped>\n",
       "  .ansiout {\n",
       "    display: block;\n",
       "    unicode-bidi: embed;\n",
       "    white-space: pre-wrap;\n",
       "    word-wrap: break-word;\n",
       "    word-break: break-all;\n",
       "    font-family: \"Menlo\", \"Monaco\", \"Consolas\", \"Ubuntu Mono\", \"Source Code Pro\", monospace;\n",
       "    font-size: 13px;\n",
       "    color: #555;\n",
       "    margin-left: 4px;\n",
       "    line-height: 19px;\n",
       "  }\n",
       "</style>\n",
       "<div class=\"ansiout\">defined class MyCaseClass\n",
       "dataframe: org.apache.spark.sql.DataFrame = [key: string, group: string ... 3 more fields]\n",
       "</div>"
      ]
     },
     "metadata": {
      "application/vnd.databricks.v1+output": {
       "addedWidgets": {},
       "arguments": {},
       "data": "<div class=\"ansiout\">defined class MyCaseClass\ndataframe: org.apache.spark.sql.DataFrame = [key: string, group: string ... 3 more fields]\n</div>",
       "datasetInfos": [
        {
         "name": "dataframe",
         "schema": {
          "fields": [
           {
            "metadata": {},
            "name": "key",
            "nullable": true,
            "type": "string"
           },
           {
            "metadata": {},
            "name": "group",
            "nullable": true,
            "type": "string"
           },
           {
            "metadata": {},
            "name": "value",
            "nullable": false,
            "type": "integer"
           },
           {
            "metadata": {},
            "name": "someints",
            "nullable": true,
            "type": {
             "containsNull": false,
             "elementType": "integer",
             "type": "array"
            }
           },
           {
            "metadata": {},
            "name": "somemap",
            "nullable": true,
            "type": {
             "keyType": "string",
             "type": "map",
             "valueContainsNull": false,
             "valueType": "integer"
            }
           }
          ],
          "type": "struct"
         },
         "tableIdentifier": null,
         "typeStr": "org.apache.spark.sql.DataFrame"
        }
       ],
       "metadata": {
        "isDbfsCommandResult": false
       },
       "removedWidgets": [],
       "type": "html"
      }
     },
     "output_type": "display_data"
    }
   ],
   "source": [
    "%scala\n",
    "case class MyCaseClass(key: String, group: String, value: Int, someints: Seq[Int], somemap: Map[String, Int])\n",
    "val dataframe = sc.parallelize(Array(MyCaseClass(\"z\", \"consonants\", 5, Array(1, 2, 3), Map(\"z\" -> 6)))).toDF()\n",
    "// now write it to disk\n",
    "dataframe.write.mode(\"overwrite\").parquet(\"dbfs:/mnt/demo_parquet/testParquet\")"
   ]
  },
  {
   "cell_type": "code",
   "execution_count": 0,
   "metadata": {
    "application/vnd.databricks.v1+cell": {
     "cellMetadata": {
      "byteLimit": 2048000,
      "implicitDf": true,
      "rowLimit": 10000
     },
     "inputWidgets": {},
     "nuid": "6dd428b6-7312-43b5-91c2-06f74153b77c",
     "showTitle": false,
     "title": ""
    }
   },
   "outputs": [
    {
     "output_type": "display_data",
     "data": {
      "text/html": [
       "<style scoped>\n",
       "  .table-result-container {\n",
       "    max-height: 300px;\n",
       "    overflow: auto;\n",
       "  }\n",
       "  table, th, td {\n",
       "    border: 1px solid black;\n",
       "    border-collapse: collapse;\n",
       "  }\n",
       "  th, td {\n",
       "    padding: 5px;\n",
       "  }\n",
       "  th {\n",
       "    text-align: left;\n",
       "  }\n",
       "</style><div class='table-result-container'><table class='table-result'><thead style='background-color: white'><tr><th>rows_count</th></tr></thead><tbody><tr><td>6</td></tr></tbody></table></div>"
      ]
     },
     "metadata": {
      "application/vnd.databricks.v1+output": {
       "addedWidgets": {},
       "aggData": [],
       "aggError": "",
       "aggOverflow": false,
       "aggSchema": [],
       "aggSeriesLimitReached": false,
       "aggType": "",
       "arguments": {},
       "columnCustomDisplayInfos": {},
       "data": [
        [
         6
        ]
       ],
       "datasetInfos": [],
       "dbfsResultPath": null,
       "isJsonSchema": true,
       "metadata": {},
       "overflow": false,
       "plotOptions": {
        "customPlotOptions": {},
        "displayType": "table",
        "pivotAggregation": null,
        "pivotColumns": null,
        "xColumns": null,
        "yColumns": null
       },
       "removedWidgets": [],
       "schema": [
        {
         "metadata": "{}",
         "name": "rows_count",
         "type": "\"long\""
        }
       ],
       "type": "table"
      }
     },
     "output_type": "display_data"
    }
   ],
   "source": [
    "%sql\n",
    "SELECT count(*) as rows_count FROM testParquetUpdate"
   ]
  },
  {
   "cell_type": "markdown",
   "metadata": {
    "application/vnd.databricks.v1+cell": {
     "cellMetadata": {},
     "inputWidgets": {},
     "nuid": "1b2a7e05-a786-4508-b313-15aa1ef4161e",
     "showTitle": false,
     "title": ""
    }
   },
   "source": [
    "Auto loader works as expectes, we have 1 more records in table 'testParquetUpdate'"
   ]
  },
  {
   "cell_type": "code",
   "execution_count": 0,
   "metadata": {
    "application/vnd.databricks.v1+cell": {
     "cellMetadata": {},
     "inputWidgets": {},
     "nuid": "7bdfea3e-fb96-47e0-afff-faf1aa10550a",
     "showTitle": false,
     "title": ""
    }
   },
   "outputs": [],
   "source": []
  }
 ],
 "metadata": {
  "application/vnd.databricks.v1+notebook": {
   "dashboards": [],
   "environmentMetadata": null,
   "language": "python",
   "notebookMetadata": {
    "mostRecentlyExecutedCommandWithImplicitDF": {
     "commandId": 966274919300797,
     "dataframes": [
      "_sqldf"
     ]
    },
    "pythonIndentUnit": 4
   },
   "notebookName": "Auto Loader",
   "widgets": {}
  }
 },
 "nbformat": 4,
 "nbformat_minor": 0
}
